{
 "cells": [
  {
   "cell_type": "markdown",
   "metadata": {},
   "source": [
    "# 任务6 比赛整理(2天)\n",
    "\n",
    "以赛方最后给的答辩模板为主线整理比赛思路，模拟比赛答辩环节，进行比赛整理。\n",
    "\n",
    "## Part1\n",
    "\n",
    "**参赛队成员简介**\n",
    "\n",
    " （这边主要介绍成员情况，如果有竞赛获奖就最好啦）\n",
    "\n",
    "ps：这个由于是模拟比赛所以这个部分可以不写哦\n",
    "\n",
    "## Part2\n",
    "\n",
    "**参赛作品概述**\n",
    "\n",
    "## Part3\n",
    "\n",
    "**关键技术阐述（数据清洗、特征工程、模型、模型融合，并强调对比赛提分最有帮助的部分）**\n",
    "\n",
    "## Part4\n",
    "\n",
    "**探索与创新（写明做的与众不同的创新点）**\n",
    "\n",
    "## Part5\n",
    "\n",
    "**实施与优化过程（在过程中尝试过的方法都可以提及并总结）**\n",
    "\n",
    "## Part6\n",
    "\n",
    "**其他（有其他需要补充的可以写在这个部分）**\n",
    "\n",
    "\n",
    "\n",
    "**（注：因为比赛是和企业合作，并具有实际意义的比赛，所以强调你的代码模型的实际意义，商业价值都会在答辩环节有帮助哦）**\n",
    "\n",
    "\n",
    "\n",
    "\n",
    "\n",
    "**任务时间 2天**\n"
   ]
  },
  {
   "cell_type": "markdown",
   "metadata": {
    "ExecuteTime": {
     "end_time": "2019-12-24T12:40:43.526848Z",
     "start_time": "2019-12-24T12:40:43.515876Z"
    }
   },
   "source": [
    "**参考连接：**\n",
    "[https://blog.csdn.net/qq_39756719/article/details/95634744](https://blog.csdn.net/qq_39756719/article/details/95634744)"
   ]
  },
  {
   "cell_type": "markdown",
   "execution_count": 1,
   "metadata": {},
   "outputs": [
    {
     "ename": "SyntaxError",
     "evalue": "invalid character in identifier (<ipython-input-1-6736c536ad62>, line 1)",
     "output_type": "error",
     "traceback": [
      "\u001b[1;36m  File \u001b[1;32m\"<ipython-input-1-6736c536ad62>\"\u001b[1;36m, line \u001b[1;32m1\u001b[0m\n\u001b[1;33m    从赛题分析、数据清洗、特征工程、模型选择、模型融合几个方面介绍\u001b[0m\n\u001b[1;37m                                  ^\u001b[0m\n\u001b[1;31mSyntaxError\u001b[0m\u001b[1;31m:\u001b[0m invalid character in identifier\n"
     ]
    }
   ],
   "source": [
    "# Part2\n",
    "## 参赛作品概述\n",
    "从赛题分析、数据清洗、特征工程、模型选择、模型融合几个方面介绍。"
   ]
  },
  {
   "cell_type": "markdown",
   "execution_count": null,
   "metadata": {},
   "outputs": [],
   "source": [
    "# Part3\n",
    "## 关键技术阐述\n",
    "### 1. 赛题分析\n",
    "分析数据，查看数据整体情况。找出离散型特征和连续型特征；分析缺失值；分析单调特征、特征unique分布；查看房屋面积分布；查看label分布；\n",
    "\n",
    "### 2. 数据清洗\n",
    "数据清洗主要包括缺失值分析及处理、异常值分析及处理、深度清洗。\n",
    "\n"
   ]
  },
  {
   "cell_type": "code",
   "execution_count": null,
   "metadata": {},
   "outputs": [],
   "source": [
    "# Part4\n",
    "## "
   ]
  }
 ],
 "metadata": {
  "kernelspec": {
   "display_name": "Python 3",
   "language": "python",
   "name": "python3"
  },
  "language_info": {
   "codemirror_mode": {
    "name": "ipython",
    "version": 3
   },
   "file_extension": ".py",
   "mimetype": "text/x-python",
   "name": "python",
   "nbconvert_exporter": "python",
   "pygments_lexer": "ipython3",
   "version": "3.6.3-final"
  },
  "toc": {
   "base_numbering": 1,
   "nav_menu": {},
   "number_sections": true,
   "sideBar": true,
   "skip_h1_title": false,
   "title_cell": "Table of Contents",
   "title_sidebar": "Contents",
   "toc_cell": false,
   "toc_position": {},
   "toc_section_display": true,
   "toc_window_display": true
  }
 },
 "nbformat": 4,
 "nbformat_minor": 2
}